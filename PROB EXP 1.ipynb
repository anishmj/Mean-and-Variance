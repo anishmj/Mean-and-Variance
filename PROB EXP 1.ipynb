{
 "cells": [
  {
   "cell_type": "code",
   "execution_count": 2,
   "id": "72b59f63",
   "metadata": {},
   "outputs": [],
   "source": [
    "import numpy as np"
   ]
  },
  {
   "cell_type": "code",
   "execution_count": 1,
   "id": "32ad67f1",
   "metadata": {},
   "outputs": [
    {
     "name": "stdout",
     "output_type": "stream",
     "text": [
      "5 0 1 4 2 3 7 5 3 5 5 7 7 2 3 3 5 3 6 1\n"
     ]
    }
   ],
   "source": [
    "L = [int(i) for i in input().split()]"
   ]
  },
  {
   "cell_type": "code",
   "execution_count": 3,
   "id": "5c1b0fb7",
   "metadata": {},
   "outputs": [],
   "source": [
    "N = len(L);M = max(L)"
   ]
  },
  {
   "cell_type": "code",
   "execution_count": 4,
   "id": "aa9dbc44",
   "metadata": {},
   "outputs": [],
   "source": [
    "x = list();f = list()"
   ]
  },
  {
   "cell_type": "code",
   "execution_count": 5,
   "id": "80841619",
   "metadata": {},
   "outputs": [],
   "source": [
    "for i in range(M+1):\n",
    "    c=0\n",
    "    for j in range(N):\n",
    "        if L[j]==i:\n",
    "            c = c+1\n",
    "    f.append(c)\n",
    "    x.append(i)\n",
    "\n"
   ]
  },
  {
   "cell_type": "code",
   "execution_count": 6,
   "id": "c3105ad5",
   "metadata": {},
   "outputs": [],
   "source": [
    "sf = np.sum(f)\n"
   ]
  },
  {
   "cell_type": "code",
   "execution_count": null,
   "id": "c501cb4d",
   "metadata": {},
   "outputs": [],
   "source": []
  },
  {
   "cell_type": "code",
   "execution_count": 7,
   "id": "572e6386",
   "metadata": {},
   "outputs": [],
   "source": [
    "p = list()\n",
    "for i in range(M+1):\n",
    "    p.append(f[i]/sf)\n",
    "    "
   ]
  },
  {
   "cell_type": "code",
   "execution_count": 8,
   "id": "10277c53",
   "metadata": {},
   "outputs": [],
   "source": [
    "mean = np.inner(x,p)"
   ]
  },
  {
   "cell_type": "markdown",
   "id": "da8593f5",
   "metadata": {},
   "source": [
    "print(mean)"
   ]
  },
  {
   "cell_type": "code",
   "execution_count": 9,
   "id": "89f811e5",
   "metadata": {},
   "outputs": [
    {
     "name": "stdout",
     "output_type": "stream",
     "text": [
      "3.8499999999999996\n"
     ]
    }
   ],
   "source": [
    "print(mean)"
   ]
  },
  {
   "cell_type": "code",
   "execution_count": 12,
   "id": "1a753aae",
   "metadata": {},
   "outputs": [],
   "source": [
    "ex2 = np.inner(np.square(x),p)"
   ]
  },
  {
   "cell_type": "raw",
   "id": "42afbae0",
   "metadata": {},
   "source": []
  },
  {
   "cell_type": "code",
   "execution_count": 13,
   "id": "d243ae93",
   "metadata": {},
   "outputs": [],
   "source": [
    "var = ex2-mean**2"
   ]
  },
  {
   "cell_type": "code",
   "execution_count": 14,
   "id": "7da3d8b3",
   "metadata": {},
   "outputs": [
    {
     "name": "stdout",
     "output_type": "stream",
     "text": [
      "4.127500000000001\n"
     ]
    }
   ],
   "source": [
    "print(var)"
   ]
  },
  {
   "cell_type": "code",
   "execution_count": 15,
   "id": "3924a61c",
   "metadata": {},
   "outputs": [],
   "source": [
    "sd = np.sqrt(var)"
   ]
  },
  {
   "cell_type": "code",
   "execution_count": 16,
   "id": "f392e4ca",
   "metadata": {},
   "outputs": [
    {
     "name": "stdout",
     "output_type": "stream",
     "text": [
      "2.031624965391005\n"
     ]
    }
   ],
   "source": [
    "print(sd)"
   ]
  },
  {
   "cell_type": "code",
   "execution_count": 17,
   "id": "f3428f12",
   "metadata": {},
   "outputs": [
    {
     "name": "stdout",
     "output_type": "stream",
     "text": [
      "the mean arrival rate is %.3f 3.8499999999999996\n"
     ]
    }
   ],
   "source": [
    "print(\"the mean arrival rate is %.3f\",mean)"
   ]
  },
  {
   "cell_type": "code",
   "execution_count": 18,
   "id": "1f18c254",
   "metadata": {},
   "outputs": [
    {
     "name": "stdout",
     "output_type": "stream",
     "text": [
      "the variance of arrival from feeder is %.3f 4.127500000000001\n"
     ]
    }
   ],
   "source": [
    "print(\"the variance of arrival from feeder is %.3f\",var)"
   ]
  },
  {
   "cell_type": "code",
   "execution_count": 20,
   "id": "67ffb10f",
   "metadata": {},
   "outputs": [
    {
     "name": "stdout",
     "output_type": "stream",
     "text": [
      "the standard deviation of arrival from feeder is %.3f 2.031624965391005\n"
     ]
    }
   ],
   "source": [
    "print(\"the standard deviation of arrival from feeder is %.3f\",sd)"
   ]
  },
  {
   "cell_type": "code",
   "execution_count": 21,
   "id": "61160ae0",
   "metadata": {},
   "outputs": [
    {
     "name": "stdout",
     "output_type": "stream",
     "text": [
      "7\n"
     ]
    }
   ],
   "source": [
    "print(M)"
   ]
  }
 ],
 "metadata": {
  "kernelspec": {
   "display_name": "Python 3 (ipykernel)",
   "language": "python",
   "name": "python3"
  },
  "language_info": {
   "codemirror_mode": {
    "name": "ipython",
    "version": 3
   },
   "file_extension": ".py",
   "mimetype": "text/x-python",
   "name": "python",
   "nbconvert_exporter": "python",
   "pygments_lexer": "ipython3",
   "version": "3.8.12"
  }
 },
 "nbformat": 4,
 "nbformat_minor": 5
}
